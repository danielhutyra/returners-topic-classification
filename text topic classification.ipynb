{
 "cells": [
  {
   "cell_type": "markdown",
   "metadata": {
    "id": "T6FlQAbniJUQ"
   },
   "source": [
    "Data preparation:"
   ]
  },
  {
   "cell_type": "markdown",
   "metadata": {
    "id": "OSIcyhWTGuUW"
   },
   "source": [
    "Reutersis a dataset of 11,228 newswires from Reuters, labeled over 46 topics.\n",
    "\n",
    "Each newswire is encoded as a list of word indexes (integers). For convenience, words are indexed by overall frequency in the dataset, so that for instance the integer \"3\" encodes the 3rd most frequent word in the data. This allows for quick filtering operations such as: \"only consider the top 10,000 most common words, but eliminate the top 20 most common words\"."
   ]
  },
  {
   "cell_type": "code",
   "execution_count": 1,
   "metadata": {
    "colab": {
     "base_uri": "https://localhost:8080/"
    },
    "id": "c4ma39I8g96J",
    "outputId": "a3012128-c616-4067-dcb3-bcb479e38fca"
   },
   "outputs": [
    {
     "ename": "ModuleNotFoundError",
     "evalue": "No module named 'keras'",
     "output_type": "error",
     "traceback": [
      "\u001b[1;31m---------------------------------------------------------------------------\u001b[0m",
      "\u001b[1;31mModuleNotFoundError\u001b[0m                       Traceback (most recent call last)",
      "\u001b[1;32m<ipython-input-1-af49d3312e47>\u001b[0m in \u001b[0;36m<module>\u001b[1;34m\u001b[0m\n\u001b[0;32m      5\u001b[0m \u001b[1;33m\u001b[0m\u001b[0m\n\u001b[0;32m      6\u001b[0m \u001b[1;32mimport\u001b[0m \u001b[0mnumpy\u001b[0m \u001b[1;32mas\u001b[0m \u001b[0mnp\u001b[0m\u001b[1;33m\u001b[0m\u001b[1;33m\u001b[0m\u001b[0m\n\u001b[1;32m----> 7\u001b[1;33m \u001b[1;32mimport\u001b[0m \u001b[0mkeras\u001b[0m\u001b[1;33m\u001b[0m\u001b[1;33m\u001b[0m\u001b[0m\n\u001b[0m\u001b[0;32m      8\u001b[0m \u001b[1;32mfrom\u001b[0m \u001b[0mkeras\u001b[0m\u001b[1;33m.\u001b[0m\u001b[0mdatasets\u001b[0m \u001b[1;32mimport\u001b[0m \u001b[0mreuters\u001b[0m\u001b[1;33m\u001b[0m\u001b[1;33m\u001b[0m\u001b[0m\n\u001b[0;32m      9\u001b[0m \u001b[1;32mfrom\u001b[0m \u001b[0mkeras\u001b[0m\u001b[1;33m.\u001b[0m\u001b[0mmodels\u001b[0m \u001b[1;32mimport\u001b[0m \u001b[0mSequential\u001b[0m\u001b[1;33m\u001b[0m\u001b[1;33m\u001b[0m\u001b[0m\n",
      "\u001b[1;31mModuleNotFoundError\u001b[0m: No module named 'keras'"
     ]
    }
   ],
   "source": [
    "'''Trains and evaluate a simple MLP\n",
    "on the Reuters newswire topic classification task.\n",
    "'''\n",
    "from __future__ import print_function\n",
    "\n",
    "import numpy as np\n",
    "import keras\n",
    "from keras.datasets import reuters\n",
    "from keras.models import Sequential\n",
    "from keras.layers import Dense, Dropout, Activation, LSTM\n",
    "from keras.preprocessing.text import Tokenizer\n",
    "from matplotlib import pyplot\n",
    "\n",
    "max_words = 1000\n",
    "batch_size = 32\n",
    "epochs = 5\n",
    "\n",
    "print('Loading data...')\n",
    "(x_train, y_train), (x_test, y_test) = reuters.load_data(num_words=max_words,\n",
    "                                                         test_split=0.2)\n",
    "print(x_train[1])\n",
    "INDEX_FROM=3\n",
    "word_to_id = reuters.get_word_index()\n",
    "word_to_id = {k:(v+INDEX_FROM) for k,v in word_to_id.items()}\n",
    "word_to_id[\"<PAD>\"] = 0\n",
    "word_to_id[\"<START>\"] = 1\n",
    "word_to_id[\"<UNK>\"] = 2\n",
    "\n",
    "id_to_word = {value:key for key,value in word_to_id.items()}\n",
    "print(' '.join(id_to_word[id] for id in x_train[1] ))\n",
    "print(y_train[1])\n",
    "\n",
    "print(' '.join(id_to_word[id] for id in x_train[48] ))\n",
    "print(y_train[48])\n",
    "\n",
    "print(' '.join(id_to_word[id] for id in x_train[159] ))\n",
    "print(y_train[159])\n",
    "\n",
    "print(len(x_train), 'train sequences')\n",
    "print(len(x_test), 'test sequences')\n",
    "\n",
    "num_classes = np.max(y_train) + 1\n",
    "print(num_classes, 'classes')\n"
   ]
  },
  {
   "cell_type": "markdown",
   "metadata": {
    "id": "MGxKtFXxiRF6"
   },
   "source": [
    "Data transformation and model building:\n"
   ]
  },
  {
   "cell_type": "code",
   "execution_count": 5,
   "metadata": {
    "colab": {
     "base_uri": "https://localhost:8080/"
    },
    "id": "6FKioL7DiU46",
    "outputId": "e77dcd6a-af74-4880-df25-a4701b4e6448"
   },
   "outputs": [
    {
     "name": "stdout",
     "output_type": "stream",
     "text": [
      "Vectorizing sequence data...\n",
      "x_train shape: (8982, 1000)\n",
      "x_test shape: (2246, 1000)\n",
      "[0. 1. 1. 0. 1. 1. 1. 1. 1. 1. 1. 1. 1. 1. 0. 1. 1. 1. 0. 1. 1. 1. 1. 1.\n",
      " 0. 1. 1. 1. 0. 1. 1. 0. 0. 1. 0. 1. 0. 0. 0. 1. 0. 0. 0. 1. 0. 0. 0. 1.\n",
      " 1. 0. 0. 1. 0. 0. 0. 0. 1. 0. 1. 1. 0. 1. 0. 0. 0. 0. 0. 1. 0. 0. 0. 1.\n",
      " 0. 0. 0. 0. 0. 0. 1. 0. 0. 0. 0. 0. 0. 0. 0. 0. 1. 0. 0. 0. 0. 0. 0. 0.\n",
      " 0. 1. 1. 1. 0. 0. 0. 0. 1. 0. 0. 0. 0. 1. 0. 1. 0. 0. 0. 0. 0. 1. 0. 1.\n",
      " 0. 0. 0. 0. 0. 0. 0. 0. 0. 1. 0. 0. 0. 1. 0. 0. 0. 0. 0. 0. 0. 0. 0. 0.\n",
      " 0. 0. 0. 0. 0. 0. 1. 0. 0. 0. 0. 0. 0. 0. 0. 1. 0. 0. 0. 0. 0. 0. 0. 0.\n",
      " 0. 0. 0. 0. 0. 0. 0. 0. 0. 0. 0. 0. 0. 0. 0. 0. 0. 0. 0. 0. 0. 0. 0. 0.\n",
      " 1. 0. 0. 0. 0. 0. 0. 0. 0. 0. 0. 0. 0. 0. 1. 1. 0. 0. 0. 0. 0. 0. 0. 0.\n",
      " 0. 0. 0. 0. 1. 0. 0. 0. 0. 1. 0. 0. 0. 0. 0. 0. 0. 0. 0. 0. 0. 0. 0. 0.\n",
      " 0. 0. 0. 0. 1. 0. 0. 0. 0. 0. 0. 0. 0. 0. 0. 0. 0. 0. 0. 0. 0. 0. 0. 0.\n",
      " 0. 0. 0. 0. 0. 0. 1. 0. 0. 1. 0. 0. 0. 0. 0. 0. 0. 1. 0. 0. 1. 0. 0. 0.\n",
      " 0. 0. 0. 0. 0. 0. 0. 0. 0. 0. 0. 1. 0. 0. 0. 0. 0. 0. 0. 0. 0. 0. 0. 0.\n",
      " 0. 0. 0. 0. 0. 0. 0. 0. 0. 0. 0. 0. 1. 0. 0. 0. 0. 0. 0. 0. 0. 1. 0. 0.\n",
      " 1. 0. 1. 0. 0. 0. 0. 0. 0. 0. 0. 0. 0. 0. 0. 0. 0. 0. 0. 0. 0. 0. 0. 0.\n",
      " 0. 0. 0. 1. 1. 0. 0. 0. 0. 0. 0. 0. 0. 0. 0. 0. 0. 0. 0. 0. 0. 0. 0. 0.\n",
      " 0. 0. 0. 0. 0. 0. 0. 0. 0. 0. 0. 0. 0. 0. 0. 0. 0. 0. 0. 0. 0. 0. 0. 0.\n",
      " 0. 0. 0. 0. 0. 0. 0. 0. 0. 0. 0. 0. 0. 0. 0. 0. 0. 0. 0. 0. 0. 0. 0. 0.\n",
      " 0. 0. 0. 0. 0. 0. 0. 0. 0. 0. 0. 0. 0. 0. 0. 0. 0. 0. 0. 0. 1. 0. 0. 0.\n",
      " 0. 0. 0. 0. 0. 0. 0. 0. 0. 0. 0. 0. 0. 0. 0. 0. 0. 0. 0. 0. 0. 0. 0. 0.\n",
      " 0. 0. 0. 0. 0. 0. 0. 0. 0. 0. 0. 0. 0. 1. 0. 0. 0. 0. 0. 0. 0. 0. 0. 0.\n",
      " 0. 0. 0. 0. 0. 0. 1. 0. 0. 0. 0. 1. 0. 0. 0. 0. 0. 0. 0. 0. 0. 0. 0. 0.\n",
      " 0. 0. 0. 0. 0. 0. 0. 0. 0. 0. 0. 0. 0. 0. 0. 0. 0. 0. 0. 0. 0. 0. 0. 0.\n",
      " 0. 0. 0. 0. 0. 0. 0. 0. 0. 0. 0. 0. 0. 0. 0. 0. 0. 0. 0. 0. 0. 0. 0. 0.\n",
      " 0. 0. 0. 1. 0. 0. 0. 0. 0. 0. 0. 0. 0. 0. 0. 0. 0. 0. 0. 0. 0. 0. 0. 0.\n",
      " 0. 0. 0. 0. 0. 0. 0. 0. 0. 0. 0. 0. 0. 0. 0. 0. 0. 0. 0. 0. 0. 0. 0. 0.\n",
      " 0. 0. 0. 0. 0. 0. 0. 0. 0. 0. 0. 0. 0. 0. 0. 0. 0. 0. 0. 0. 1. 0. 0. 0.\n",
      " 0. 0. 0. 0. 0. 0. 0. 0. 0. 0. 0. 0. 0. 0. 0. 0. 0. 0. 0. 0. 0. 0. 0. 0.\n",
      " 0. 0. 0. 0. 0. 0. 0. 0. 0. 0. 0. 0. 0. 0. 0. 0. 0. 0. 0. 0. 0. 0. 0. 0.\n",
      " 0. 1. 0. 0. 0. 0. 0. 0. 0. 0. 0. 0. 0. 0. 0. 0. 0. 0. 0. 0. 0. 0. 0. 0.\n",
      " 0. 0. 1. 0. 0. 0. 0. 0. 0. 0. 0. 0. 0. 0. 0. 0. 0. 0. 1. 0. 0. 0. 0. 0.\n",
      " 0. 0. 1. 0. 1. 0. 0. 0. 0. 0. 0. 0. 0. 0. 0. 0. 0. 0. 0. 0. 0. 0. 0. 0.\n",
      " 0. 0. 0. 0. 0. 0. 0. 0. 0. 0. 0. 0. 0. 0. 0. 1. 0. 0. 0. 0. 0. 0. 0. 0.\n",
      " 0. 1. 0. 0. 0. 0. 0. 0. 0. 0. 0. 0. 0. 0. 0. 0. 0. 0. 0. 0. 0. 0. 0. 0.\n",
      " 0. 0. 0. 0. 0. 0. 0. 0. 0. 0. 0. 0. 0. 0. 0. 0. 0. 0. 0. 0. 0. 0. 0. 0.\n",
      " 0. 0. 0. 0. 0. 0. 0. 0. 0. 0. 0. 0. 0. 0. 0. 1. 0. 0. 0. 0. 0. 0. 0. 0.\n",
      " 0. 0. 0. 0. 0. 0. 0. 0. 0. 0. 0. 0. 0. 0. 0. 0. 0. 0. 0. 0. 0. 0. 0. 0.\n",
      " 0. 0. 0. 0. 0. 0. 0. 0. 0. 0. 0. 0. 0. 0. 0. 0. 0. 1. 0. 0. 0. 0. 0. 0.\n",
      " 0. 0. 0. 0. 0. 0. 0. 0. 0. 0. 0. 0. 0. 0. 0. 0. 0. 0. 0. 0. 0. 0. 0. 0.\n",
      " 0. 0. 0. 0. 0. 0. 0. 0. 0. 0. 0. 0. 0. 0. 0. 0. 0. 0. 0. 0. 0. 0. 0. 0.\n",
      " 0. 0. 0. 0. 0. 0. 1. 0. 0. 0. 0. 0. 0. 0. 0. 0. 0. 0. 0. 0. 0. 0. 0. 0.\n",
      " 0. 0. 0. 0. 0. 0. 0. 0. 0. 0. 0. 0. 0. 0. 0. 0.]\n"
     ]
    }
   ],
   "source": [
    "\n",
    "print('Vectorizing sequence data...')\n",
    "tokenizer = Tokenizer(num_words=max_words)\n",
    "x_train = tokenizer.sequences_to_matrix(x_train, mode='binary')\n",
    "\n",
    "x_test = tokenizer.sequences_to_matrix(x_test, mode='binary')\n",
    "print('x_train shape:', x_train.shape)\n",
    "print('x_test shape:', x_test.shape)\n",
    "print(x_test[0])\n",
    "\n",
    "\n",
    "\n",
    "\n"
   ]
  },
  {
   "cell_type": "code",
   "execution_count": 6,
   "metadata": {
    "colab": {
     "base_uri": "https://localhost:8080/"
    },
    "id": "XP2CaALUcfYa",
    "outputId": "45b5f9f3-2ad9-473d-b3bc-2be30c593423"
   },
   "outputs": [
    {
     "name": "stdout",
     "output_type": "stream",
     "text": [
      "3\n"
     ]
    }
   ],
   "source": [
    "print(y_test[0])"
   ]
  },
  {
   "cell_type": "code",
   "execution_count": 7,
   "metadata": {
    "colab": {
     "base_uri": "https://localhost:8080/"
    },
    "id": "lNAgeGj5HOmp",
    "outputId": "9cb55f6e-e02c-4591-d8b4-920c335e1f18"
   },
   "outputs": [
    {
     "name": "stdout",
     "output_type": "stream",
     "text": [
      "Convert class vector to binary class matrix (for use with categorical_crossentropy)\n",
      "train[1]  4\n",
      "[0. 0. 0. 0. 1. 0. 0. 0. 0. 0. 0. 0. 0. 0. 0. 0. 0. 0. 0. 0. 0. 0. 0. 0.\n",
      " 0. 0. 0. 0. 0. 0. 0. 0. 0. 0. 0. 0. 0. 0. 0. 0. 0. 0. 0. 0. 0. 0.]\n",
      "test[0]  3\n",
      "[0. 0. 0. 1. 0. 0. 0. 0. 0. 0. 0. 0. 0. 0. 0. 0. 0. 0. 0. 0. 0. 0. 0. 0.\n",
      " 0. 0. 0. 0. 0. 0. 0. 0. 0. 0. 0. 0. 0. 0. 0. 0. 0. 0. 0. 0. 0. 0.]\n",
      "y_train shape: (8982, 46)\n",
      "y_test shape: (2246, 46)\n"
     ]
    }
   ],
   "source": [
    "print('Convert class vector to binary class matrix '\n",
    "      '(for use with categorical_crossentropy)')\n",
    "print('train[1] ', y_train[1])\n",
    "y_train = keras.utils.to_categorical(y_train, num_classes)\n",
    "print(y_train[1])\n",
    "print('test[0] ', y_test[0])\n",
    "y_test = keras.utils.to_categorical(y_test, num_classes)\n",
    "print(y_test[0])\n",
    "\n",
    "print('y_train shape:', y_train.shape)\n",
    "print('y_test shape:', y_test.shape)\n",
    "\n",
    "\n"
   ]
  },
  {
   "cell_type": "code",
   "execution_count": 8,
   "metadata": {
    "colab": {
     "base_uri": "https://localhost:8080/"
    },
    "id": "JWK6PIzKcvrh",
    "outputId": "d8085a44-8ff5-4aae-f895-f16e73e565e1"
   },
   "outputs": [
    {
     "name": "stdout",
     "output_type": "stream",
     "text": [
      "Building model...\n",
      "Model: \"sequential\"\n",
      "_________________________________________________________________\n",
      "Layer (type)                 Output Shape              Param #   \n",
      "=================================================================\n",
      "dense (Dense)                (None, 512)               512512    \n",
      "_________________________________________________________________\n",
      "activation (Activation)      (None, 512)               0         \n",
      "_________________________________________________________________\n",
      "dense_1 (Dense)              (None, 46)                23598     \n",
      "_________________________________________________________________\n",
      "activation_1 (Activation)    (None, 46)                0         \n",
      "=================================================================\n",
      "Total params: 536,110\n",
      "Trainable params: 536,110\n",
      "Non-trainable params: 0\n",
      "_________________________________________________________________\n",
      "None\n"
     ]
    }
   ],
   "source": [
    "print('Building model...')\n",
    "model = Sequential()\n",
    "model.add(Dense(512, input_shape=(max_words,)))\n",
    "model.add(Activation('relu'))\n",
    "model.add(Dense(num_classes))\n",
    "model.add(Activation('softmax'))\n",
    "\n",
    "print(model.summary())"
   ]
  },
  {
   "cell_type": "markdown",
   "metadata": {
    "id": "wefxlvT0imH8"
   },
   "source": [
    "Training and evaluation:"
   ]
  },
  {
   "cell_type": "markdown",
   "metadata": {
    "id": "lTV5L7vnGrFh"
   },
   "source": []
  },
  {
   "cell_type": "code",
   "execution_count": 12,
   "metadata": {
    "colab": {
     "base_uri": "https://localhost:8080/",
     "height": 1000
    },
    "id": "qZJvicwmisv9",
    "outputId": "f58a7709-3229-43f3-b98d-0ac4b4f1d2b4"
   },
   "outputs": [
    {
     "name": "stdout",
     "output_type": "stream",
     "text": [
      "Epoch 1/30\n",
      "253/253 [==============================] - 2s 6ms/step - loss: 0.0837 - accuracy: 0.9642 - val_loss: 1.2681 - val_accuracy: 0.7887\n",
      "Epoch 2/30\n",
      "253/253 [==============================] - 1s 5ms/step - loss: 0.0805 - accuracy: 0.9616 - val_loss: 1.4268 - val_accuracy: 0.7809\n",
      "Epoch 3/30\n",
      "253/253 [==============================] - 1s 5ms/step - loss: 0.0790 - accuracy: 0.9643 - val_loss: 1.3392 - val_accuracy: 0.7842\n",
      "Epoch 4/30\n",
      "253/253 [==============================] - 1s 5ms/step - loss: 0.0761 - accuracy: 0.9634 - val_loss: 1.4296 - val_accuracy: 0.7786\n",
      "Epoch 5/30\n",
      "253/253 [==============================] - 1s 5ms/step - loss: 0.0852 - accuracy: 0.9629 - val_loss: 1.3947 - val_accuracy: 0.7842\n",
      "Epoch 6/30\n",
      "253/253 [==============================] - 1s 5ms/step - loss: 0.0808 - accuracy: 0.9623 - val_loss: 1.4331 - val_accuracy: 0.7831\n",
      "Epoch 7/30\n",
      "253/253 [==============================] - 1s 5ms/step - loss: 0.0726 - accuracy: 0.9627 - val_loss: 1.4783 - val_accuracy: 0.7720\n",
      "Epoch 8/30\n",
      "253/253 [==============================] - 1s 5ms/step - loss: 0.0712 - accuracy: 0.9668 - val_loss: 1.4056 - val_accuracy: 0.7764\n",
      "Epoch 9/30\n",
      "253/253 [==============================] - 1s 5ms/step - loss: 0.0646 - accuracy: 0.9669 - val_loss: 1.4404 - val_accuracy: 0.7764\n",
      "Epoch 10/30\n",
      "253/253 [==============================] - 1s 5ms/step - loss: 0.0649 - accuracy: 0.9660 - val_loss: 1.4721 - val_accuracy: 0.7798\n",
      "Epoch 11/30\n",
      "253/253 [==============================] - 1s 5ms/step - loss: 0.0705 - accuracy: 0.9667 - val_loss: 1.5263 - val_accuracy: 0.7753\n",
      "Epoch 12/30\n",
      "253/253 [==============================] - 1s 5ms/step - loss: 0.0693 - accuracy: 0.9637 - val_loss: 1.5032 - val_accuracy: 0.7798\n",
      "Epoch 13/30\n",
      "253/253 [==============================] - 1s 5ms/step - loss: 0.0645 - accuracy: 0.9678 - val_loss: 1.4978 - val_accuracy: 0.7853\n",
      "Epoch 14/30\n",
      "253/253 [==============================] - 1s 5ms/step - loss: 0.0665 - accuracy: 0.9626 - val_loss: 1.5370 - val_accuracy: 0.7798\n",
      "Epoch 15/30\n",
      "253/253 [==============================] - 1s 5ms/step - loss: 0.0689 - accuracy: 0.9635 - val_loss: 1.5567 - val_accuracy: 0.7786\n",
      "Epoch 16/30\n",
      "253/253 [==============================] - 1s 5ms/step - loss: 0.0643 - accuracy: 0.9652 - val_loss: 1.5652 - val_accuracy: 0.7764\n",
      "Epoch 17/30\n",
      "253/253 [==============================] - 1s 6ms/step - loss: 0.0699 - accuracy: 0.9635 - val_loss: 1.5646 - val_accuracy: 0.7798\n",
      "Epoch 18/30\n",
      "253/253 [==============================] - 1s 5ms/step - loss: 0.0644 - accuracy: 0.9610 - val_loss: 1.6322 - val_accuracy: 0.7753\n",
      "Epoch 19/30\n",
      "253/253 [==============================] - 1s 5ms/step - loss: 0.0655 - accuracy: 0.9633 - val_loss: 1.5769 - val_accuracy: 0.7898\n",
      "Epoch 20/30\n",
      "253/253 [==============================] - 1s 5ms/step - loss: 0.0637 - accuracy: 0.9632 - val_loss: 1.6288 - val_accuracy: 0.7864\n",
      "Epoch 21/30\n",
      "253/253 [==============================] - 1s 5ms/step - loss: 0.0636 - accuracy: 0.9619 - val_loss: 1.6522 - val_accuracy: 0.7775\n",
      "Epoch 22/30\n",
      "253/253 [==============================] - 1s 5ms/step - loss: 0.0612 - accuracy: 0.9652 - val_loss: 1.6639 - val_accuracy: 0.7753\n",
      "Epoch 23/30\n",
      "253/253 [==============================] - 1s 5ms/step - loss: 0.0627 - accuracy: 0.9641 - val_loss: 1.7193 - val_accuracy: 0.7753\n",
      "Epoch 24/30\n",
      "253/253 [==============================] - 1s 5ms/step - loss: 0.0559 - accuracy: 0.9690 - val_loss: 1.6323 - val_accuracy: 0.7775\n",
      "Epoch 25/30\n",
      "253/253 [==============================] - 1s 5ms/step - loss: 0.0595 - accuracy: 0.9643 - val_loss: 1.7120 - val_accuracy: 0.7853\n",
      "Epoch 26/30\n",
      "253/253 [==============================] - 1s 5ms/step - loss: 0.0627 - accuracy: 0.9623 - val_loss: 1.8368 - val_accuracy: 0.7753\n",
      "Epoch 27/30\n",
      "253/253 [==============================] - 1s 5ms/step - loss: 0.0710 - accuracy: 0.9635 - val_loss: 1.7453 - val_accuracy: 0.7709\n",
      "Epoch 28/30\n",
      "253/253 [==============================] - 1s 5ms/step - loss: 0.0605 - accuracy: 0.9658 - val_loss: 1.7457 - val_accuracy: 0.7831\n",
      "Epoch 29/30\n",
      "253/253 [==============================] - 1s 5ms/step - loss: 0.0555 - accuracy: 0.9664 - val_loss: 1.7833 - val_accuracy: 0.7798\n",
      "Epoch 30/30\n",
      "253/253 [==============================] - 1s 5ms/step - loss: 0.0584 - accuracy: 0.9658 - val_loss: 1.8310 - val_accuracy: 0.7798\n"
     ]
    },
    {
     "data": {
      "image/png": "[encoded data removed]",
      "text/plain": [
       "<Figure size 432x288 with 1 Axes>"
      ]
     },
     "metadata": {
      "needs_background": "light",
      "tags": []
     },
     "output_type": "display_data"
    },
    {
     "name": "stdout",
     "output_type": "stream",
     "text": [
      "CPU times: user 57.8 s, sys: 3.62 s, total: 1min 1s\n",
      "Wall time: 41.5 s\n"
     ]
    }
   ],
   "source": [
    "%%time\n",
    "epochs=30\n",
    "model.compile(loss='categorical_crossentropy',\n",
    "              optimizer='adam',\n",
    "              metrics = ['accuracy'])\n",
    "\n",
    "history = model.fit(x_train, y_train,\n",
    "                    batch_size=batch_size,\n",
    "                    epochs=epochs,\n",
    "                    verbose=1,\n",
    "                    validation_split=0.1, validation_data=(x_test, y_test))\n",
    "\n",
    "pyplot.plot(history.history['loss'])\n",
    "pyplot.plot(history.history['val_loss'])\n",
    "pyplot.title('model train vs validation loss')\n",
    "pyplot.ylabel('loss')\n",
    "pyplot.xlabel('epoch')\n",
    "pyplot.legend(['train', 'validation'], loc='upper right')\n",
    "pyplot.show()"
   ]
  },
  {
   "cell_type": "code",
   "execution_count": 11,
   "metadata": {
    "colab": {
     "base_uri": "https://localhost:8080/",
     "height": 246
    },
    "id": "2Ect72Fan7i9",
    "outputId": "0c8def24-df8d-4d2f-f820-da5191f1a82b"
   },
   "outputs": [
    {
     "ename": "KeyError",
     "evalue": "ignored",
     "output_type": "error",
     "traceback": [
      "\u001b[0;31m---------------------------------------------------------------------------\u001b[0m",
      "\u001b[0;31mKeyError\u001b[0m                                  Traceback (most recent call last)",
      "\u001b[0;32m<ipython-input-11-88574126a568>\u001b[0m in \u001b[0;36m<module>\u001b[0;34m()\u001b[0m\n\u001b[0;32m----> 1\u001b[0;31m \u001b[0mpyplot\u001b[0m\u001b[0;34m.\u001b[0m\u001b[0mplot\u001b[0m\u001b[0;34m(\u001b[0m\u001b[0mhistory\u001b[0m\u001b[0;34m.\u001b[0m\u001b[0mhistory\u001b[0m\u001b[0;34m[\u001b[0m\u001b[0;34m'acc'\u001b[0m\u001b[0;34m]\u001b[0m\u001b[0;34m)\u001b[0m\u001b[0;34m\u001b[0m\u001b[0;34m\u001b[0m\u001b[0m\n\u001b[0m\u001b[1;32m      2\u001b[0m \u001b[0mpyplot\u001b[0m\u001b[0;34m.\u001b[0m\u001b[0mplot\u001b[0m\u001b[0;34m(\u001b[0m\u001b[0mhistory\u001b[0m\u001b[0;34m.\u001b[0m\u001b[0mhistory\u001b[0m\u001b[0;34m[\u001b[0m\u001b[0;34m'val_accuracy'\u001b[0m\u001b[0;34m]\u001b[0m\u001b[0;34m)\u001b[0m\u001b[0;34m\u001b[0m\u001b[0;34m\u001b[0m\u001b[0m\n\u001b[1;32m      3\u001b[0m \u001b[0mpyplot\u001b[0m\u001b[0;34m.\u001b[0m\u001b[0mtitle\u001b[0m\u001b[0;34m(\u001b[0m\u001b[0;34m'model train vs validation acc'\u001b[0m\u001b[0;34m)\u001b[0m\u001b[0;34m\u001b[0m\u001b[0;34m\u001b[0m\u001b[0m\n\u001b[1;32m      4\u001b[0m \u001b[0mpyplot\u001b[0m\u001b[0;34m.\u001b[0m\u001b[0mylabel\u001b[0m\u001b[0;34m(\u001b[0m\u001b[0;34m'acc'\u001b[0m\u001b[0;34m)\u001b[0m\u001b[0;34m\u001b[0m\u001b[0;34m\u001b[0m\u001b[0m\n\u001b[1;32m      5\u001b[0m \u001b[0mpyplot\u001b[0m\u001b[0;34m.\u001b[0m\u001b[0mxlabel\u001b[0m\u001b[0;34m(\u001b[0m\u001b[0;34m'epoch'\u001b[0m\u001b[0;34m)\u001b[0m\u001b[0;34m\u001b[0m\u001b[0;34m\u001b[0m\u001b[0m\n",
      "\u001b[0;31mKeyError\u001b[0m: 'acc'"
     ]
    }
   ],
   "source": [
    "pyplot.plot(history.history['accuracy'])\n",
    "pyplot.plot(history.history['val_accuracy'])\n",
    "pyplot.title('model train vs validation acc')\n",
    "pyplot.ylabel('acc')\n",
    "pyplot.xlabel('epoch')\n",
    "pyplot.legend(['train', 'validation'], loc='upper right')\n",
    "pyplot.show()"
   ]
  },
  {
   "cell_type": "markdown",
   "metadata": {
    "id": "lXn4XmJRr7fn"
   },
   "source": [
    "# Zadanie: zaproponuj drugą sieć, porównaj wyniki, postaraj się osiągnąć lepsze"
   ]
  },
  {
   "cell_type": "code",
   "execution_count": 13,
   "metadata": {
    "colab": {
     "base_uri": "https://localhost:8080/"
    },
    "id": "dALjHbt9MIau",
    "outputId": "cf8ac7ff-65d6-4761-deaa-22cd08349e09"
   },
   "outputs": [
    {
     "name": "stdout",
     "output_type": "stream",
     "text": [
      "Building model2...\n",
      "Model: \"sequential_1\"\n",
      "_________________________________________________________________\n",
      "Layer (type)                 Output Shape              Param #   \n",
      "=================================================================\n",
      "dense_2 (Dense)              (None, 512)               512512    \n",
      "_________________________________________________________________\n",
      "activation_2 (Activation)    (None, 512)               0         \n",
      "_________________________________________________________________\n",
      "dense_3 (Dense)              (None, 256)               131328    \n",
      "_________________________________________________________________\n",
      "activation_3 (Activation)    (None, 256)               0         \n",
      "_________________________________________________________________\n",
      "dense_4 (Dense)              (None, 64)                16448     \n",
      "_________________________________________________________________\n",
      "activation_4 (Activation)    (None, 64)                0         \n",
      "_________________________________________________________________\n",
      "dense_5 (Dense)              (None, 46)                2990      \n",
      "_________________________________________________________________\n",
      "activation_5 (Activation)    (None, 46)                0         \n",
      "=================================================================\n",
      "Total params: 663,278\n",
      "Trainable params: 663,278\n",
      "Non-trainable params: 0\n",
      "_________________________________________________________________\n",
      "None\n"
     ]
    }
   ],
   "source": [
    "print('Building model2...')\n",
    "model2 = Sequential()\n",
    "model2.add(Dense(512, input_shape=(max_words,)))\n",
    "model2.add(Activation('relu'))\n",
    "model2.add(Dense(256))\n",
    "model2.add(Activation('relu'))\n",
    "model2.add(Dense(64))\n",
    "model2.add(Activation('relu'))\n",
    "model2.add(Dense(num_classes))\n",
    "model2.add(Activation('softmax'))\n",
    "\n",
    "print(model2.summary())"
   ]
  },
  {
   "cell_type": "code",
   "execution_count": 15,
   "metadata": {
    "colab": {
     "base_uri": "https://localhost:8080/"
    },
    "id": "YfUBeKfgMvYt",
    "outputId": "dd5312ee-d82a-4993-f24e-facabc92283f"
   },
   "outputs": [
    {
     "name": "stdout",
     "output_type": "stream",
     "text": [
      "Epoch 1/20\n",
      "253/253 [==============================] - 2s 8ms/step - loss: 0.2733 - accuracy: 0.9358 - val_loss: 1.0950 - val_accuracy: 0.7720\n",
      "Epoch 2/20\n",
      "253/253 [==============================] - 2s 7ms/step - loss: 0.1713 - accuracy: 0.9575 - val_loss: 1.1090 - val_accuracy: 0.7809\n",
      "Epoch 3/20\n",
      "253/253 [==============================] - 2s 7ms/step - loss: 0.1465 - accuracy: 0.9557 - val_loss: 1.2871 - val_accuracy: 0.7653\n",
      "Epoch 4/20\n",
      "253/253 [==============================] - 2s 7ms/step - loss: 0.1372 - accuracy: 0.9580 - val_loss: 1.2266 - val_accuracy: 0.7642\n",
      "Epoch 5/20\n",
      "253/253 [==============================] - 2s 7ms/step - loss: 0.1110 - accuracy: 0.9624 - val_loss: 1.2898 - val_accuracy: 0.7764\n",
      "Epoch 6/20\n",
      "253/253 [==============================] - 2s 7ms/step - loss: 0.1102 - accuracy: 0.9611 - val_loss: 1.3173 - val_accuracy: 0.7720\n",
      "Epoch 7/20\n",
      "253/253 [==============================] - 2s 7ms/step - loss: 0.1029 - accuracy: 0.9596 - val_loss: 1.4024 - val_accuracy: 0.7742\n",
      "Epoch 8/20\n",
      "253/253 [==============================] - 2s 7ms/step - loss: 0.0836 - accuracy: 0.9664 - val_loss: 1.4395 - val_accuracy: 0.7564\n",
      "Epoch 9/20\n",
      "253/253 [==============================] - 2s 7ms/step - loss: 0.0766 - accuracy: 0.9658 - val_loss: 1.4917 - val_accuracy: 0.7686\n",
      "Epoch 10/20\n",
      "253/253 [==============================] - 2s 7ms/step - loss: 0.0862 - accuracy: 0.9604 - val_loss: 1.4796 - val_accuracy: 0.7664\n",
      "Epoch 11/20\n",
      "253/253 [==============================] - 2s 7ms/step - loss: 0.0726 - accuracy: 0.9662 - val_loss: 1.5253 - val_accuracy: 0.7686\n",
      "Epoch 12/20\n",
      "253/253 [==============================] - 2s 7ms/step - loss: 0.0814 - accuracy: 0.9615 - val_loss: 1.6728 - val_accuracy: 0.7430\n",
      "Epoch 13/20\n",
      "253/253 [==============================] - 2s 7ms/step - loss: 0.0939 - accuracy: 0.9618 - val_loss: 1.5796 - val_accuracy: 0.7553\n",
      "Epoch 14/20\n",
      "253/253 [==============================] - 2s 7ms/step - loss: 0.0781 - accuracy: 0.9634 - val_loss: 1.6894 - val_accuracy: 0.7608\n",
      "Epoch 15/20\n",
      "253/253 [==============================] - 2s 7ms/step - loss: 0.0774 - accuracy: 0.9607 - val_loss: 1.6601 - val_accuracy: 0.7620\n",
      "Epoch 16/20\n",
      "253/253 [==============================] - 2s 7ms/step - loss: 0.0632 - accuracy: 0.9641 - val_loss: 1.7223 - val_accuracy: 0.7586\n",
      "Epoch 17/20\n",
      "253/253 [==============================] - 2s 7ms/step - loss: 0.0735 - accuracy: 0.9624 - val_loss: 1.5718 - val_accuracy: 0.7686\n",
      "Epoch 18/20\n",
      "253/253 [==============================] - 2s 7ms/step - loss: 0.0629 - accuracy: 0.9647 - val_loss: 1.7129 - val_accuracy: 0.7575\n",
      "Epoch 19/20\n",
      "253/253 [==============================] - 2s 7ms/step - loss: 0.0705 - accuracy: 0.9637 - val_loss: 1.7637 - val_accuracy: 0.7586\n",
      "Epoch 20/20\n",
      "253/253 [==============================] - 2s 7ms/step - loss: 0.0769 - accuracy: 0.9629 - val_loss: 1.7442 - val_accuracy: 0.7542\n",
      "CPU times: user 52.5 s, sys: 3.18 s, total: 55.7 s\n",
      "Wall time: 36.3 s\n"
     ]
    }
   ],
   "source": [
    "%%time \n",
    "epochs=20\n",
    "model2.compile(loss='categorical_crossentropy',\n",
    "              optimizer='adam',\n",
    "               metrics = ['accuracy'])\n",
    "\n",
    "history2 = model2.fit(x_train, y_train,\n",
    "                    batch_size=batch_size,\n",
    "                    epochs=epochs,\n",
    "                    verbose=1,\n",
    "                    validation_split=0.1, validation_data=(x_test, y_test))\n",
    "\n"
   ]
  },
  {
   "cell_type": "code",
   "execution_count": 18,
   "metadata": {
    "colab": {
     "base_uri": "https://localhost:8080/",
     "height": 295
    },
    "id": "F7GXbsartfuq",
    "outputId": "06912f24-4d96-44b3-dc8f-1bf898e37811"
   },
   "outputs": [
    {
     "data": {
      "image/png": "[encoded data removed]",
      "text/plain": [
       "<Figure size 432x288 with 1 Axes>"
      ]
     },
     "metadata": {
      "needs_background": "light",
      "tags": []
     },
     "output_type": "display_data"
    }
   ],
   "source": [
    "pyplot.plot(history2.history['loss'])\n",
    "pyplot.plot(history2.history['val_loss'])\n",
    "pyplot.title('model train vs validation loss')\n",
    "pyplot.ylabel('loss')\n",
    "pyplot.xlabel('epoch')\n",
    "pyplot.legend(['train', 'validation'], loc='upper right')\n",
    "pyplot.show()"
   ]
  },
  {
   "cell_type": "code",
   "execution_count": 19,
   "metadata": {
    "colab": {
     "base_uri": "https://localhost:8080/",
     "height": 295
    },
    "id": "LNghN5NPpPMP",
    "outputId": "76418264-fd6a-487b-e52a-fe84a87467d6"
   },
   "outputs": [
    {
     "data": {
      "image/png": "[encoded data removed]",
      "text/plain": [
       "<Figure size 432x288 with 1 Axes>"
      ]
     },
     "metadata": {
      "needs_background": "light",
      "tags": []
     },
     "output_type": "display_data"
    }
   ],
   "source": [
    "pyplot.plot(history2.history['accuracy'])\n",
    "pyplot.plot(history2.history['val_accuracy'])\n",
    "pyplot.title('model train vs validation acc')\n",
    "pyplot.ylabel('acc')\n",
    "pyplot.xlabel('epoch')\n",
    "pyplot.legend(['train', 'validation'], loc='upper right')\n",
    "pyplot.show()"
   ]
  },
  {
   "cell_type": "code",
   "execution_count": 20,
   "metadata": {
    "colab": {
     "base_uri": "https://localhost:8080/"
    },
    "id": "4sBSMXUMpl05",
    "outputId": "501578db-6a1a-44dd-b4f2-7dd099fef10f"
   },
   "outputs": [
    {
     "name": "stdout",
     "output_type": "stream",
     "text": [
      "Building model3...\n",
      "Model: \"sequential_3\"\n",
      "_________________________________________________________________\n",
      "Layer (type)                 Output Shape              Param #   \n",
      "=================================================================\n",
      "dense_9 (Dense)              (None, 256)               256256    \n",
      "_________________________________________________________________\n",
      "activation_9 (Activation)    (None, 256)               0         \n",
      "_________________________________________________________________\n",
      "dense_10 (Dense)             (None, 64)                16448     \n",
      "_________________________________________________________________\n",
      "activation_10 (Activation)   (None, 64)                0         \n",
      "_________________________________________________________________\n",
      "dense_11 (Dense)             (None, 46)                2990      \n",
      "_________________________________________________________________\n",
      "activation_11 (Activation)   (None, 46)                0         \n",
      "=================================================================\n",
      "Total params: 275,694\n",
      "Trainable params: 275,694\n",
      "Non-trainable params: 0\n",
      "_________________________________________________________________\n",
      "None\n"
     ]
    }
   ],
   "source": [
    "print('Building model3...')\n",
    "model3 = Sequential()\n",
    "model3.add(Dense(256, input_shape=(max_words,)))\n",
    "model3.add(Activation('relu'))\n",
    "model3.add(Dense(64))\n",
    "model3.add(Activation('relu'))\n",
    "model3.add(Dense(num_classes))\n",
    "model3.add(Activation('softmax'))\n",
    "\n",
    "print(model3.summary())\n"
   ]
  },
  {
   "cell_type": "code",
   "execution_count": 21,
   "metadata": {
    "colab": {
     "base_uri": "https://localhost:8080/"
    },
    "id": "-7gwFC-cptBE",
    "outputId": "7beb6220-bf9d-4acf-e650-dfebfca6c62c"
   },
   "outputs": [
    {
     "name": "stdout",
     "output_type": "stream",
     "text": [
      "Epoch 1/20\n",
      "253/253 [==============================] - 1s 4ms/step - loss: 1.9793 - accuracy: 0.5767 - val_loss: 1.1301 - val_accuracy: 0.7542\n",
      "Epoch 2/20\n",
      "253/253 [==============================] - 1s 4ms/step - loss: 0.7719 - accuracy: 0.8223 - val_loss: 0.9657 - val_accuracy: 0.7742\n",
      "Epoch 3/20\n",
      "253/253 [==============================] - 1s 4ms/step - loss: 0.4924 - accuracy: 0.8796 - val_loss: 0.9261 - val_accuracy: 0.7998\n",
      "Epoch 4/20\n",
      "253/253 [==============================] - 1s 4ms/step - loss: 0.3279 - accuracy: 0.9209 - val_loss: 0.9549 - val_accuracy: 0.7987\n",
      "Epoch 5/20\n",
      "253/253 [==============================] - 1s 4ms/step - loss: 0.2416 - accuracy: 0.9431 - val_loss: 1.0156 - val_accuracy: 0.7942\n",
      "Epoch 6/20\n",
      "253/253 [==============================] - 1s 3ms/step - loss: 0.1735 - accuracy: 0.9575 - val_loss: 1.0606 - val_accuracy: 0.7831\n",
      "Epoch 7/20\n",
      "253/253 [==============================] - 1s 4ms/step - loss: 0.1689 - accuracy: 0.9581 - val_loss: 1.1310 - val_accuracy: 0.7842\n",
      "Epoch 8/20\n",
      "253/253 [==============================] - 1s 3ms/step - loss: 0.1511 - accuracy: 0.9590 - val_loss: 1.0721 - val_accuracy: 0.7953\n",
      "Epoch 9/20\n",
      "253/253 [==============================] - 1s 3ms/step - loss: 0.1314 - accuracy: 0.9625 - val_loss: 1.1457 - val_accuracy: 0.7842\n",
      "Epoch 10/20\n",
      "253/253 [==============================] - 1s 4ms/step - loss: 0.1132 - accuracy: 0.9677 - val_loss: 1.1587 - val_accuracy: 0.7753\n",
      "Epoch 11/20\n",
      "253/253 [==============================] - 1s 4ms/step - loss: 0.1317 - accuracy: 0.9589 - val_loss: 1.1275 - val_accuracy: 0.7831\n",
      "Epoch 12/20\n",
      "253/253 [==============================] - 1s 3ms/step - loss: 0.1190 - accuracy: 0.9640 - val_loss: 1.1736 - val_accuracy: 0.7853\n",
      "Epoch 13/20\n",
      "253/253 [==============================] - 1s 4ms/step - loss: 0.1163 - accuracy: 0.9606 - val_loss: 1.1328 - val_accuracy: 0.7898\n",
      "Epoch 14/20\n",
      "253/253 [==============================] - 1s 3ms/step - loss: 0.1086 - accuracy: 0.9663 - val_loss: 1.2089 - val_accuracy: 0.7820\n",
      "Epoch 15/20\n",
      "253/253 [==============================] - 1s 4ms/step - loss: 0.1111 - accuracy: 0.9601 - val_loss: 1.2217 - val_accuracy: 0.7786\n",
      "Epoch 16/20\n",
      "253/253 [==============================] - 1s 4ms/step - loss: 0.1071 - accuracy: 0.9631 - val_loss: 1.2405 - val_accuracy: 0.7853\n",
      "Epoch 17/20\n",
      "253/253 [==============================] - 1s 4ms/step - loss: 0.0995 - accuracy: 0.9656 - val_loss: 1.2639 - val_accuracy: 0.7564\n",
      "Epoch 18/20\n",
      "253/253 [==============================] - 1s 4ms/step - loss: 0.0974 - accuracy: 0.9643 - val_loss: 1.2351 - val_accuracy: 0.7742\n",
      "Epoch 19/20\n",
      "253/253 [==============================] - 1s 3ms/step - loss: 0.1012 - accuracy: 0.9615 - val_loss: 1.2565 - val_accuracy: 0.7853\n",
      "Epoch 20/20\n",
      "253/253 [==============================] - 1s 4ms/step - loss: 0.0919 - accuracy: 0.9645 - val_loss: 1.3103 - val_accuracy: 0.7798\n",
      "CPU times: user 24.8 s, sys: 1.56 s, total: 26.4 s\n",
      "Wall time: 19.1 s\n"
     ]
    }
   ],
   "source": [
    "%%time \n",
    "epochs=20\n",
    "model3.compile(loss='categorical_crossentropy',\n",
    "              optimizer='adam',\n",
    "               metrics = ['accuracy'])\n",
    "\n",
    "history3 = model3.fit(x_train, y_train,\n",
    "                    batch_size=batch_size,\n",
    "                    epochs=epochs,\n",
    "                    verbose=1,\n",
    "                    validation_split=0.1, validation_data=(x_test, y_test))\n"
   ]
  },
  {
   "cell_type": "code",
   "execution_count": 22,
   "metadata": {
    "colab": {
     "base_uri": "https://localhost:8080/",
     "height": 295
    },
    "id": "aqNuDk1-p4RB",
    "outputId": "15a89f0a-c2b3-4627-fced-323ce893b72b"
   },
   "outputs": [
    {
     "data": {
      "image/png": "[encoded data removed]",
      "text/plain": [
       "<Figure size 432x288 with 1 Axes>"
      ]
     },
     "metadata": {
      "needs_background": "light",
      "tags": []
     },
     "output_type": "display_data"
    }
   ],
   "source": [
    "\n",
    "\n",
    "pyplot.plot(history3.history['loss'])\n",
    "pyplot.plot(history3.history['val_loss'])\n",
    "pyplot.title('model train vs validation loss')\n",
    "pyplot.ylabel('loss')\n",
    "pyplot.xlabel('epoch')\n",
    "pyplot.legend(['train', 'validation'], loc='upper right')\n",
    "pyplot.show()"
   ]
  },
  {
   "cell_type": "code",
   "execution_count": 23,
   "metadata": {
    "colab": {
     "base_uri": "https://localhost:8080/",
     "height": 295
    },
    "id": "pNrAjmhMp5yO",
    "outputId": "5157012e-0983-446d-d537-8514207e906d"
   },
   "outputs": [
    {
     "data": {
      "image/png": "[encoded data removed]",
      "text/plain": [
       "<Figure size 432x288 with 1 Axes>"
      ]
     },
     "metadata": {
      "needs_background": "light",
      "tags": []
     },
     "output_type": "display_data"
    }
   ],
   "source": [
    "pyplot.plot(history3.history['accuracy'])\n",
    "pyplot.plot(history3.history['val_accuracy'])\n",
    "pyplot.title('model train vs validation acc')\n",
    "pyplot.ylabel('acc')\n",
    "pyplot.xlabel('epoch')\n",
    "pyplot.legend(['train', 'validation'], loc='upper right')\n",
    "pyplot.show()"
   ]
  }
 ],
 "metadata": {
  "colab": {
   "collapsed_sections": [],
   "name": "INL-lab6-nn2-easy_classification.ipynb",
   "provenance": []
  },
  "kernelspec": {
   "display_name": "Python 3",
   "language": "python",
   "name": "python3"
  },
  "language_info": {
   "codemirror_mode": {
    "name": "ipython",
    "version": 3
   },
   "file_extension": ".py",
   "mimetype": "text/x-python",
   "name": "python",
   "nbconvert_exporter": "python",
   "pygments_lexer": "ipython3",
   "version": "3.8.5"
  }
 },
 "nbformat": 4,
 "nbformat_minor": 1
}
